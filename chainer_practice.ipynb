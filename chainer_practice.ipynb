{
 "cells": [
  {
   "cell_type": "code",
   "execution_count": 1,
   "metadata": {
    "collapsed": true
   },
   "outputs": [],
   "source": [
    "from chainer.datasets import mnist\n",
    "\n",
    "train, test = mnist.get_mnist(withlabel=True, ndim=1)"
   ]
  },
  {
   "cell_type": "code",
   "execution_count": 2,
   "metadata": {
    "scrolled": false
   },
   "outputs": [
    {
     "data": {
      "image/png": "[encoded data removed]",
      "text/plain": [
       "<matplotlib.figure.Figure at 0x10a3dd518>"
      ]
     },
     "metadata": {},
     "output_type": "display_data"
    },
    {
     "name": "stdout",
     "output_type": "stream",
     "text": [
      "label 5\n"
     ]
    }
   ],
   "source": [
    "%matplotlib inline\n",
    "import matplotlib.pyplot as plt\n",
    "\n",
    "x, t = train[0]\n",
    "plt.imshow(x.reshape(28, 28), cmap='gray')\n",
    "plt.axis('off')\n",
    "plt.show()\n",
    "print('label', t)"
   ]
  },
  {
   "cell_type": "code",
   "execution_count": 3,
   "metadata": {
    "collapsed": true
   },
   "outputs": [],
   "source": [
    "from chainer import iterators\n",
    "\n",
    "batchsize = 128\n",
    "\n",
    "train_iter  = iterators.SerialIterator(train, batchsize)\n",
    "test_iter = iterators.SerialIterator(test, batchsize, repeat=False, shuffle=False)"
   ]
  },
  {
   "cell_type": "code",
   "execution_count": 4,
   "metadata": {
    "collapsed": true
   },
   "outputs": [],
   "source": [
    "import random\n",
    "import numpy\n",
    "random.seed(0)\n",
    "numpy.random.seed(0)\n",
    "\n",
    "import chainer\n",
    "if chainer.cuda.available:\n",
    "    chainer.cuda.cupy.random.seed(0)"
   ]
  },
  {
   "cell_type": "code",
   "execution_count": 5,
   "metadata": {},
   "outputs": [],
   "source": [
    "import chainer\n",
    "import chainer.links as L\n",
    "import chainer.functions as F\n",
    "\n",
    "class MLP(chainer.Chain):\n",
    "\n",
    "    def __init__(self, n_mid_units=100, n_out=10):\n",
    "        super(MLP, self).__init__()\n",
    "        \n",
    "       # パラメータを持つ層の登録\n",
    "        with self.init_scope():\n",
    "            self.l1 = L.Linear(None, n_mid_units)\n",
    "            self.l2 = L.Linear(n_mid_units, n_mid_units)\n",
    "            self.l3 = L.Linear(n_mid_units, n_out)\n",
    "\n",
    "    def __call__(self, x):\n",
    "        # データを受け取った際のforward計算を書く\n",
    "        h1 = F.relu(self.l1(x))\n",
    "        h2 = F.relu(self.l2(h1))\n",
    "        return self.l3(h2)\n",
    "\n",
    "gpu_id = -1  # CPUを用いる場合は、この値を-1にしてください\n",
    "\n",
    "net = MLP()\n",
    "\n",
    "if gpu_id >= 0:\n",
    "    net.to_gpu(gpu_id)"
   ]
  },
  {
   "cell_type": "code",
   "execution_count": 6,
   "metadata": {},
   "outputs": [
    {
     "name": "stdout",
     "output_type": "stream",
     "text": [
      "1つ目の全結合層のバイアスパラメーターの形は (100,)\n",
      "初期化直後のその値は [ 0.  0.  0.  0.  0.  0.  0.  0.  0.  0.  0.  0.  0.  0.  0.  0.  0.  0.\n",
      "  0.  0.  0.  0.  0.  0.  0.  0.  0.  0.  0.  0.  0.  0.  0.  0.  0.  0.\n",
      "  0.  0.  0.  0.  0.  0.  0.  0.  0.  0.  0.  0.  0.  0.  0.  0.  0.  0.\n",
      "  0.  0.  0.  0.  0.  0.  0.  0.  0.  0.  0.  0.  0.  0.  0.  0.  0.  0.\n",
      "  0.  0.  0.  0.  0.  0.  0.  0.  0.  0.  0.  0.  0.  0.  0.  0.  0.  0.\n",
      "  0.  0.  0.  0.  0.  0.  0.  0.  0.  0.]\n"
     ]
    }
   ],
   "source": [
    "print(\"1つ目の全結合層のバイアスパラメーターの形は\", net.l1.b.shape)\n",
    "print(\"初期化直後のその値は\", net.l1.b.data)"
   ]
  },
  {
   "cell_type": "code",
   "execution_count": 7,
   "metadata": {
    "collapsed": true
   },
   "outputs": [],
   "source": [
    "from chainer import optimizers\n",
    "\n",
    "optimizer = optimizers.SGD(lr=0.01)\n",
    "optimizer.setup(net)"
   ]
  },
  {
   "cell_type": "code",
   "execution_count": 12,
   "metadata": {},
   "outputs": [
    {
     "name": "stdout",
     "output_type": "stream",
     "text": [
      "epoch:11 train_loss:0.2130val_loss:0.2416 val_accuracy:0.9290\n",
      "epoch:12 train_loss:0.2695val_loss:0.2361 val_accuracy:0.9310\n",
      "epoch:13 train_loss:0.2522val_loss:0.2294 val_accuracy:0.9324\n",
      "epoch:14 train_loss:0.1509val_loss:0.2217 val_accuracy:0.9356\n",
      "epoch:15 train_loss:0.2564val_loss:0.2156 val_accuracy:0.9370\n",
      "epoch:16 train_loss:0.1653val_loss:0.2090 val_accuracy:0.9381\n",
      "epoch:17 train_loss:0.2528val_loss:0.2037 val_accuracy:0.9400\n",
      "epoch:18 train_loss:0.1533val_loss:0.1993 val_accuracy:0.9410\n",
      "epoch:19 train_loss:0.1843val_loss:0.1929 val_accuracy:0.9432\n",
      "epoch:20 train_loss:0.1524val_loss:0.1879 val_accuracy:0.9433\n",
      "epoch:21 train_loss:0.1156val_loss:0.1839 val_accuracy:0.9443\n",
      "epoch:22 train_loss:0.2510val_loss:0.1782 val_accuracy:0.9464\n",
      "epoch:23 train_loss:0.1269val_loss:0.1741 val_accuracy:0.9487\n",
      "epoch:24 train_loss:0.3170val_loss:0.1701 val_accuracy:0.9480\n",
      "epoch:25 train_loss:0.1771val_loss:0.1662 val_accuracy:0.9506\n",
      "epoch:26 train_loss:0.1504val_loss:0.1619 val_accuracy:0.9513\n",
      "epoch:27 train_loss:0.1990val_loss:0.1580 val_accuracy:0.9512\n",
      "epoch:28 train_loss:0.1862val_loss:0.1557 val_accuracy:0.9525\n",
      "epoch:29 train_loss:0.1026val_loss:0.1526 val_accuracy:0.9540\n",
      "epoch:30 train_loss:0.0620val_loss:0.1484 val_accuracy:0.9550\n",
      "epoch:31 train_loss:0.1374val_loss:0.1463 val_accuracy:0.9572\n",
      "epoch:32 train_loss:0.1255val_loss:0.1436 val_accuracy:0.9569\n",
      "epoch:33 train_loss:0.0968val_loss:0.1396 val_accuracy:0.9586\n",
      "epoch:34 train_loss:0.1289val_loss:0.1370 val_accuracy:0.9586\n",
      "epoch:35 train_loss:0.1030val_loss:0.1341 val_accuracy:0.9595\n",
      "epoch:36 train_loss:0.0916val_loss:0.1324 val_accuracy:0.9599\n",
      "epoch:37 train_loss:0.1077val_loss:0.1296 val_accuracy:0.9601\n",
      "epoch:38 train_loss:0.0648val_loss:0.1280 val_accuracy:0.9611\n",
      "epoch:39 train_loss:0.0998val_loss:0.1254 val_accuracy:0.9611\n",
      "epoch:40 train_loss:0.0901val_loss:0.1239 val_accuracy:0.9613\n",
      "epoch:41 train_loss:0.0978val_loss:0.1217 val_accuracy:0.9627\n",
      "epoch:42 train_loss:0.0992val_loss:0.1205 val_accuracy:0.9623\n",
      "epoch:43 train_loss:0.1182val_loss:0.1173 val_accuracy:0.9636\n",
      "epoch:44 train_loss:0.0554val_loss:0.1154 val_accuracy:0.9638\n",
      "epoch:45 train_loss:0.1574val_loss:0.1148 val_accuracy:0.9640\n",
      "epoch:46 train_loss:0.0924val_loss:0.1134 val_accuracy:0.9649\n",
      "epoch:47 train_loss:0.0936val_loss:0.1123 val_accuracy:0.9659\n",
      "epoch:48 train_loss:0.1109val_loss:0.1094 val_accuracy:0.9660\n",
      "epoch:49 train_loss:0.2590val_loss:0.1086 val_accuracy:0.9668\n",
      "epoch:50 train_loss:0.0825val_loss:0.1071 val_accuracy:0.9669\n",
      "epoch:51 train_loss:0.0517val_loss:0.1052 val_accuracy:0.9677\n",
      "epoch:52 train_loss:0.0748val_loss:0.1041 val_accuracy:0.9675\n",
      "epoch:53 train_loss:0.0771val_loss:0.1041 val_accuracy:0.9683\n",
      "epoch:54 train_loss:0.0588val_loss:0.1026 val_accuracy:0.9676\n",
      "epoch:55 train_loss:0.1082val_loss:0.1014 val_accuracy:0.9684\n",
      "epoch:56 train_loss:0.0355val_loss:0.1006 val_accuracy:0.9686\n",
      "epoch:57 train_loss:0.1095val_loss:0.0993 val_accuracy:0.9696\n",
      "epoch:58 train_loss:0.0851val_loss:0.0975 val_accuracy:0.9699\n",
      "epoch:59 train_loss:0.0541val_loss:0.0974 val_accuracy:0.9694\n",
      "epoch:60 train_loss:0.0901val_loss:0.0960 val_accuracy:0.9700\n",
      "epoch:61 train_loss:0.0757val_loss:0.0948 val_accuracy:0.9707\n",
      "epoch:62 train_loss:0.0438val_loss:0.0950 val_accuracy:0.9706\n",
      "epoch:63 train_loss:0.0848val_loss:0.0944 val_accuracy:0.9716\n",
      "epoch:64 train_loss:0.0424val_loss:0.0943 val_accuracy:0.9718\n",
      "epoch:65 train_loss:0.0850val_loss:0.0914 val_accuracy:0.9721\n",
      "epoch:66 train_loss:0.0413val_loss:0.0911 val_accuracy:0.9717\n",
      "epoch:67 train_loss:0.0657val_loss:0.0896 val_accuracy:0.9719\n",
      "epoch:68 train_loss:0.1270val_loss:0.0906 val_accuracy:0.9722\n",
      "epoch:69 train_loss:0.0701val_loss:0.0886 val_accuracy:0.9735\n",
      "epoch:70 train_loss:0.1074val_loss:0.0888 val_accuracy:0.9725\n",
      "epoch:71 train_loss:0.0319val_loss:0.0889 val_accuracy:0.9724\n",
      "epoch:72 train_loss:0.0706val_loss:0.0883 val_accuracy:0.9727\n",
      "epoch:73 train_loss:0.0253val_loss:0.0868 val_accuracy:0.9733\n",
      "epoch:74 train_loss:0.0446val_loss:0.0861 val_accuracy:0.9726\n",
      "epoch:75 train_loss:0.0360val_loss:0.0866 val_accuracy:0.9723\n",
      "epoch:76 train_loss:0.0500val_loss:0.0846 val_accuracy:0.9738\n",
      "epoch:77 train_loss:0.0938val_loss:0.0846 val_accuracy:0.9737\n",
      "epoch:78 train_loss:0.0504val_loss:0.0842 val_accuracy:0.9740\n",
      "epoch:79 train_loss:0.0661val_loss:0.0837 val_accuracy:0.9740\n",
      "epoch:80 train_loss:0.1069val_loss:0.0839 val_accuracy:0.9737\n",
      "epoch:81 train_loss:0.0268val_loss:0.0825 val_accuracy:0.9753\n",
      "epoch:82 train_loss:0.0957val_loss:0.0821 val_accuracy:0.9748\n",
      "epoch:83 train_loss:0.0417val_loss:0.0815 val_accuracy:0.9739\n",
      "epoch:84 train_loss:0.0642val_loss:0.0823 val_accuracy:0.9742\n",
      "epoch:85 train_loss:0.0188val_loss:0.0821 val_accuracy:0.9745\n",
      "epoch:86 train_loss:0.0762val_loss:0.0804 val_accuracy:0.9756\n",
      "epoch:87 train_loss:0.0497val_loss:0.0804 val_accuracy:0.9754\n",
      "epoch:88 train_loss:0.0746val_loss:0.0804 val_accuracy:0.9750\n",
      "epoch:89 train_loss:0.0189val_loss:0.0799 val_accuracy:0.9748\n",
      "epoch:90 train_loss:0.0318val_loss:0.0792 val_accuracy:0.9755\n",
      "epoch:91 train_loss:0.0362val_loss:0.0789 val_accuracy:0.9753\n",
      "epoch:92 train_loss:0.0252val_loss:0.0787 val_accuracy:0.9755\n",
      "epoch:93 train_loss:0.0365val_loss:0.0792 val_accuracy:0.9745\n",
      "epoch:94 train_loss:0.0391val_loss:0.0784 val_accuracy:0.9761\n",
      "epoch:95 train_loss:0.0370val_loss:0.0783 val_accuracy:0.9758\n",
      "epoch:96 train_loss:0.1059val_loss:0.0775 val_accuracy:0.9764\n",
      "epoch:97 train_loss:0.0607val_loss:0.0764 val_accuracy:0.9764\n",
      "epoch:98 train_loss:0.0377val_loss:0.0766 val_accuracy:0.9761\n",
      "epoch:99 train_loss:0.0584val_loss:0.0772 val_accuracy:0.9763\n",
      "epoch:100 train_loss:0.0454val_loss:0.0771 val_accuracy:0.9759\n"
     ]
    }
   ],
   "source": [
    "import numpy as np\n",
    "from chainer.dataset import concat_examples\n",
    "from chainer.cuda import to_cpu\n",
    "\n",
    "max_epoch = 100\n",
    "\n",
    "while train_iter.epoch < max_epoch:\n",
    "    \n",
    "    # 学習1のイテレーション\n",
    "    train_batch = train_iter.next()\n",
    "    x, t = concat_examples(train_batch, gpu_id)\n",
    "    \n",
    "    # 予測値の計算\n",
    "    y = net(x)\n",
    "    \n",
    "    # ロスの計算\n",
    "    loss = F.softmax_cross_entropy(y, t)\n",
    "    \n",
    "    # 勾配の計算\n",
    "    net.cleargrads()\n",
    "    loss.backward()\n",
    "    \n",
    "    # パラメーターの更新\n",
    "    optimizer.update()\n",
    "    \n",
    "    # 1エポック終了ごとにValidationデータに対する予測精度を測って、\n",
    "    # モデルの汎用性能が向上していることをチェックしよう\n",
    "    if train_iter.is_new_epoch:\n",
    "        \n",
    "        # ロスの表示\n",
    "        print(\"epoch:{:02d} train_loss:{:.04f}\".format(train_iter.epoch, float(to_cpu(loss.data))), end=\"\")\n",
    "        \n",
    "        test_losses = []\n",
    "        test_accuracies = []\n",
    "        \n",
    "        while True:\n",
    "            test_batch = test_iter.next()\n",
    "            x_test, t_test = concat_examples(test_batch, gpu_id)\n",
    "            \n",
    "            # テストデータをforward\n",
    "            y_test = net(x_test)\n",
    "            \n",
    "            # ロスを計算\n",
    "            loss_test = F.softmax_cross_entropy(y_test, t_test)\n",
    "            test_losses.append(to_cpu(loss_test.data))\n",
    "            \n",
    "            # 精度を計算\n",
    "            accuracy = F.accuracy(y_test, t_test)\n",
    "            accuracy.to_cpu()\n",
    "            test_accuracies.append(accuracy.data)\n",
    "            \n",
    "            if test_iter.is_new_epoch:\n",
    "                test_iter.epoch = 0\n",
    "                test_iter.current_position = 0\n",
    "                test_iter.is_new_epoch = False\n",
    "                test_iter._pushed_position = None\n",
    "                break\n",
    "                \n",
    "        print(\"val_loss:{:.04f} val_accuracy:{:.04f}\".format(np.mean(test_losses), np.mean(test_accuracies)))"
   ]
  },
  {
   "cell_type": "code",
   "execution_count": 13,
   "metadata": {},
   "outputs": [
    {
     "name": "stdout",
     "output_type": "stream",
     "text": [
      "-rw-r--r--  1 kazuki  staff  333940 12 10 16:13 my_mnist.model\r\n"
     ]
    }
   ],
   "source": [
    "from chainer import serializers\n",
    "\n",
    "serializers.save_npz(\"my_mnist.model\", net)\n",
    "\n",
    "# ちゃんと保存されていることを確認\n",
    "% ls -la my_mnist.model"
   ]
  },
  {
   "cell_type": "code",
   "execution_count": 14,
   "metadata": {
    "collapsed": true
   },
   "outputs": [],
   "source": [
    "# まず同じネットワークのオブジェクトを作る\n",
    "infer_net = MLP()\n",
    "\n",
    "# そのオブジェクトに保存済みパラメーターをロードする\n",
    "serializers.load_npz(\"my_mnist.model\", infer_net)"
   ]
  },
  {
   "cell_type": "code",
   "execution_count": 17,
   "metadata": {},
   "outputs": [
    {
     "data": {
      "image/png": "[encoded data removed]",
      "text/plain": [
       "<matplotlib.figure.Figure at 0x182394c198>"
      ]
     },
     "metadata": {},
     "output_type": "display_data"
    },
    {
     "name": "stdout",
     "output_type": "stream",
     "text": [
      "元の形: (784,)->ミニバッチの形にしたあと: (1, 784)\n",
      "ネットワークの予測: 0\n"
     ]
    }
   ],
   "source": [
    "gpu_id = -1\n",
    "\n",
    "if gpu_id >= 0:\n",
    "    infer_net.to_gpu(gpu_id)\n",
    "    \n",
    "# 1つ目のテストデータを取り出します\n",
    "x, t = test[10] # tは使わない\n",
    "\n",
    "# どんな画像かを表示します\n",
    "plt.imshow(x.reshape(28, 28), cmap=\"gray\")\n",
    "plt.show()\n",
    "\n",
    "# ミニバッチの形にする(複数の画像をまとめて推論に使いたい場合は、サイズnのミニバッチにしてまとめれば良い)\n",
    "print(\"元の形:\", x.shape, end=\"->\")\n",
    "\n",
    "x = x[None, ...]\n",
    "\n",
    "print(\"ミニバッチの形にしたあと:\", x.shape)\n",
    "\n",
    "# ネットワークと同じデバイス上にデータを送る\n",
    "x = infer_net.xp.asarray(x)\n",
    "\n",
    "# モデルのforward関数に渡す\n",
    "y = infer_net(x)\n",
    "\n",
    "# Variable形式で出てくるので中身を取り出す\n",
    "y = y.array\n",
    "\n",
    "# 結果をCPUに送る\n",
    "y = to_cpu(y)\n",
    "\n",
    "# 予測確率の最大値のインデックスをみる\n",
    "pred_label = y.argmax(axis=1)\n",
    "\n",
    "print(\"ネットワークの予測:\", pred_label[0])"
   ]
  },
  {
   "cell_type": "code",
   "execution_count": 19,
   "metadata": {},
   "outputs": [],
   "source": [
    "random.seed(0)\n",
    "numpy.random.seed(0)\n",
    "if chainer.cuda.available:\n",
    "    chainer.cuda.cupy.random.seed(0)\n",
    "\n",
    "train, test = mnist.get_mnist()\n",
    "\n",
    "batchsize = 128\n",
    "\n",
    "train_iter = iterators.SerialIterator(train, batchsize)\n",
    "test_iter = iterators.SerialIterator(test, batchsize ,False, False)\n",
    "\n",
    "gpu_id = -1\n",
    "\n",
    "net = MLP()\n",
    "\n",
    "if gpu_id >= 0:\n",
    "    net.to_gpu(gpu_id)"
   ]
  },
  {
   "cell_type": "code",
   "execution_count": 20,
   "metadata": {
    "collapsed": true
   },
   "outputs": [],
   "source": [
    "from chainer import training\n",
    "\n",
    "gpu_id = -1\n",
    "\n",
    "net = L.Classifier(net)\n",
    "\n",
    "optimizer = optimizers.SGD()\n",
    "optimizer.setup(net)\n",
    "\n",
    "updater = training.StandardUpdater(train_iter, optimizer, device=gpu_id)"
   ]
  },
  {
   "cell_type": "code",
   "execution_count": 37,
   "metadata": {
    "collapsed": true
   },
   "outputs": [],
   "source": [
    "max_epoch = 200\n",
    "\n",
    "trainer = training.Trainer(updater, (max_epoch, 'epoch'), out=\"mnist_result\")"
   ]
  },
  {
   "cell_type": "code",
   "execution_count": 38,
   "metadata": {},
   "outputs": [],
   "source": [
    "from chainer.training import extensions"
   ]
  },
  {
   "cell_type": "code",
   "execution_count": 39,
   "metadata": {
    "collapsed": true
   },
   "outputs": [],
   "source": [
    "trainer.extend(extensions.LogReport())\n",
    "trainer.extend(extensions.snapshot(filename=\"snapshot_epoch-{.updater.epoch}\"))\n",
    "trainer.extend(extensions.Evaluator(test_iter, net, device=gpu_id), name=\"val\")\n",
    "trainer.extend(extensions.PrintReport([\"epoch\",\"main/loss\", \"main/accuracy\", \"val/main/loss\", \"val/main/accuracy\", \"l1/W/data/std\", \"elapsed_time\"]))\n",
    "trainer.extend(extensions.ParameterStatistics(net.predictor.l1, {'std': np.std}))\n",
    "trainer.extend(extensions.PlotReport([\"l1/W/data/std\"], x_key=\"epoch\", file_name=\"std.png\"))\n",
    "trainer.extend(extensions.PlotReport([\"main/loss\", \"val/main/loss\"], x_key=\"epoch\", file_name=\"loss.png\"))\n",
    "trainer.extend(extensions.PlotReport([\"main/accuracy\", \"val/main/accuracy\"], x_key=\"epoch\", file_name=\"accuracy.png\"))\n",
    "trainer.extend(extensions.dump_graph(\"main/loss\"))"
   ]
  },
  {
   "cell_type": "code",
   "execution_count": 40,
   "metadata": {},
   "outputs": [
    {
     "name": "stdout",
     "output_type": "stream",
     "text": [
      "epoch       main/loss   main/accuracy  val/main/loss  val/main/accuracy  l1/W/data/std  elapsed_time\n",
      "\u001b[J100         0.0221764   1              0.0795335      0.975574           0.044149       0.150443      \n",
      "\u001b[J101         0.0466352   0.987831       0.0790239      0.976068           0.0441711      2.03939       \n",
      "\u001b[J102         0.0459623   0.988023       0.0781439      0.975574           0.0442167      3.92322       \n",
      "\u001b[J103         0.0454678   0.987973       0.078332       0.976266           0.0442622      5.88098       \n",
      "\u001b[J104         0.0448538   0.988181       0.0785498      0.974782           0.044306       7.80058       \n",
      "\u001b[J105         0.0444021   0.988573       0.0776521      0.974881           0.0443511      9.70726       \n",
      "\u001b[J106         0.0439147   0.988673       0.0775863      0.976464           0.0443942      12.3258       \n",
      "\u001b[J107         0.0431919   0.988556       0.07726        0.976661           0.044438       14.232        \n",
      "\u001b[J108         0.0426497   0.988882       0.0773284      0.977057           0.0444821      16.1584       \n",
      "\u001b[J109         0.0422028   0.988789       0.0766535      0.976365           0.0445255      18.077        \n",
      "\u001b[J110         0.0416113   0.989506       0.0767384      0.976365           0.044569       19.9613       \n",
      "\u001b[J111         0.0412335   0.989489       0.0759439      0.977057           0.0446115      21.8181       \n",
      "\u001b[J112         0.0407204   0.98965        0.0760222      0.976464           0.044655       23.7964       \n",
      "\u001b[J113         0.0401888   0.989589       0.0764509      0.975672           0.0446964      25.6607       \n",
      "\u001b[J114         0.0396923   0.989656       0.0769483      0.976562           0.0447391      27.6033       \n",
      "\u001b[J115         0.0390973   0.990189       0.0757612      0.977255           0.0447812      29.5125       \n",
      "\u001b[J116         0.0388092   0.990134       0.076729       0.977156           0.0448234      31.4161       \n",
      "\u001b[J117         0.0382273   0.990222       0.0755342      0.976958           0.0448653      33.3339       \n",
      "\u001b[J118         0.037863    0.990538       0.0752818      0.977354           0.0449071      35.2588       \n",
      "\u001b[J119         0.0373219   0.990488       0.0753802      0.976266           0.0449488      37.1936       \n",
      "\u001b[J120         0.0367674   0.990802       0.0756729      0.97676            0.0449899      39.2332       \n",
      "\u001b[J121         0.0364009   0.990805       0.0745595      0.977453           0.0450309      41.1684       \n",
      "\u001b[J122         0.0360006   0.991121       0.0753879      0.976562           0.0450714      43.0615       \n",
      "\u001b[J123         0.0355066   0.991088       0.0745357      0.976859           0.0451125      44.9006       \n",
      "\u001b[J124         0.0352103   0.991153       0.0757417      0.977057           0.045153       46.7599       \n",
      "\u001b[J125         0.0348105   0.991621       0.0740766      0.977156           0.0451932      48.6549       \n",
      "\u001b[J126         0.0341994   0.991854       0.074941       0.977057           0.0452337      50.5866       \n",
      "\u001b[J127         0.033877    0.992004       0.0743267      0.977749           0.0452736      52.5096       \n",
      "\u001b[J128         0.0335515   0.991887       0.0736043      0.976859           0.0453136      54.369        \n",
      "\u001b[J129         0.0331722   0.991938       0.0745016      0.97765            0.0453524      56.421        \n",
      "\u001b[J130         0.0327336   0.992237       0.0746006      0.977848           0.0453925      58.4037       \n",
      "\u001b[J131         0.0323039   0.992138       0.0741376      0.976562           0.0454323      60.2685       \n",
      "\u001b[J132         0.0319556   0.992455       0.074406       0.978244           0.0454708      62.1817       \n",
      "\u001b[J133         0.0315439   0.992521       0.0745285      0.976365           0.0455105      64.0997       \n",
      "\u001b[J134         0.0311386   0.992271       0.0740769      0.976562           0.0455491      66.0059       \n",
      "\u001b[J135         0.030835    0.992587       0.0741006      0.976464           0.0455881      67.9727       \n",
      "\u001b[J136         0.0304655   0.992989       0.0733536      0.977354           0.0456267      69.8836       \n",
      "\u001b[J137         0.030128    0.992954       0.0730486      0.977453           0.0456653      71.8183       \n",
      "\u001b[J138         0.029707    0.993054       0.0737751      0.976562           0.0457029      73.7335       \n",
      "\u001b[J139         0.0293876   0.993354       0.0741186      0.977749           0.0457413      75.6533       \n",
      "\u001b[J140         0.029082    0.993139       0.0729716      0.978046           0.0457795      77.6535       \n",
      "\u001b[J141         0.028676    0.993537       0.0735846      0.976859           0.0458175      79.7663       \n",
      "\u001b[J142         0.028317    0.99357        0.0738537      0.976661           0.045855       81.6733       \n",
      "\u001b[J143         0.028046    0.99367        0.0733787      0.977156           0.0458923      83.5851       \n",
      "\u001b[J144         0.0277419   0.993807       0.0739229      0.977453           0.0459295      85.4726       \n",
      "\u001b[J145         0.0274384   0.993587       0.0737381      0.977551           0.0459672      87.3728       \n",
      "\u001b[J146         0.0270438   0.994003       0.0741034      0.976365           0.0460042      89.2763       \n",
      "\u001b[J147         0.0267484   0.993887       0.0739533      0.976958           0.0460407      91.1345       \n",
      "\u001b[J148         0.0264922   0.994141       0.0736969      0.977255           0.0460775      93.0502       \n",
      "\u001b[J149         0.026103    0.99442        0.0731139      0.977057           0.0461139      94.9737       \n",
      "\u001b[J150         0.0258109   0.994386       0.0738396      0.97676            0.0461502      96.8456       \n",
      "\u001b[J151         0.0255055   0.994403       0.0730784      0.977453           0.0461863      98.8145       \n",
      "\u001b[J152         0.0252113   0.994742       0.0738785      0.977749           0.0462222      100.736       \n",
      "\u001b[J153         0.0250003   0.994603       0.0731147      0.977057           0.0462578      102.622       \n",
      "\u001b[J154         0.0246381   0.994853       0.073194       0.976958           0.0462944      104.519       \n",
      "\u001b[J155         0.0243934   0.994703       0.0746317      0.977453           0.0463292      106.654       \n",
      "\u001b[J156         0.0241666   0.995042       0.0735242      0.977551           0.0463648      108.565       \n",
      "\u001b[J157         0.0239056   0.994919       0.0731463      0.97765            0.0464003      110.445       \n",
      "\u001b[J158         0.0234583   0.995086       0.0729903      0.977947           0.0464354      112.37        \n",
      "\u001b[J159         0.0233064   0.995269       0.0730608      0.977156           0.0464697      114.23        \n",
      "\u001b[J160         0.0230205   0.995343       0.0732392      0.977749           0.0465045      116.129       \n",
      "\u001b[J161         0.0228284   0.995536       0.0736252      0.977156           0.0465389      118.1         \n",
      "\u001b[J162         0.0225247   0.995436       0.0737792      0.977848           0.0465738      120.079       \n",
      "\u001b[J163         0.022288    0.995802       0.0739139      0.977255           0.0466082      121.977       \n",
      "\u001b[J164         0.0220396   0.995509       0.0729757      0.977749           0.0466422      123.883       \n",
      "\u001b[J165         0.0217469   0.995802       0.073016       0.977947           0.0466758      125.748       \n",
      "\u001b[J166         0.0215907   0.995752       0.0735699      0.977156           0.0467094      127.692       \n",
      "\u001b[J167         0.0213205   0.995952       0.0734231      0.977848           0.0467431      129.588       \n",
      "\u001b[J168         0.0211249   0.99611        0.0734337      0.977453           0.0467764      131.494       \n",
      "\u001b[J169         0.0208363   0.996085       0.0732289      0.977057           0.0468102      133.415       \n",
      "\u001b[J170         0.0206166   0.996152       0.0737031      0.977848           0.046843       135.368       \n",
      "\u001b[J171         0.0203026   0.996019       0.0744042      0.977947           0.0468761      137.34        \n",
      "\u001b[J172         0.0201237   0.996411       0.0733126      0.977749           0.0469089      139.293       \n",
      "\u001b[J173         0.0199414   0.996219       0.0737522      0.977354           0.0469415      141.523       \n",
      "\u001b[J174         0.0197895   0.996335       0.0742174      0.977749           0.0469742      143.429       \n",
      "\u001b[J175         0.0194869   0.996469       0.0743399      0.977551           0.0470062      145.355       \n",
      "\u001b[J176         0.019229    0.996561       0.0743579      0.977551           0.0470384      147.28        \n"
     ]
    },
    {
     "name": "stdout",
     "output_type": "stream",
     "text": [
      "\u001b[J177         0.0191023   0.996568       0.0737748      0.977551           0.0470701      149.178       \n",
      "\u001b[J178         0.0188631   0.996768       0.0750448      0.977354           0.0471025      151.072       \n",
      "\u001b[J179         0.0187075   0.996668       0.0739173      0.977947           0.0471344      153.033       \n",
      "\u001b[J180         0.0184353   0.996678       0.0744759      0.977156           0.0471658      154.928       \n",
      "\u001b[J181         0.0182907   0.996735       0.0741552      0.977453           0.0471971      156.887       \n",
      "\u001b[J182         0.0180604   0.996868       0.0744262      0.978145           0.0472286      158.97        \n",
      "\u001b[J183         0.0178521   0.996902       0.0742585      0.978343           0.04726        160.93        \n",
      "\u001b[J184         0.0177818   0.997045       0.0745622      0.978046           0.0472909      162.795       \n",
      "\u001b[J185         0.0175129   0.997152       0.0746235      0.978145           0.0473219      164.676       \n",
      "\u001b[J186         0.0173595   0.997185       0.0741848      0.978046           0.0473521      166.577       \n",
      "\u001b[J187         0.0171526   0.997251       0.0750046      0.978343           0.0473827      168.507       \n",
      "\u001b[J188         0.0170007   0.997396       0.0744631      0.97765            0.0474134      170.433       \n",
      "\u001b[J189         0.0168006   0.997351       0.074498       0.977749           0.0474438      172.337       \n",
      "\u001b[J190         0.0166115   0.997368       0.0746014      0.977848           0.0474738      174.24        \n",
      "\u001b[J191         0.0164057   0.997551       0.0737935      0.97765            0.0475036      176.124       \n",
      "\u001b[J192         0.0162956   0.997546       0.0744221      0.978046           0.0475335      178.093       \n",
      "\u001b[J193         0.0160751   0.997518       0.0744892      0.977848           0.047563       180.021       \n",
      "\u001b[J194         0.0159593   0.997518       0.0748364      0.977749           0.0475927      181.97        \n",
      "\u001b[J195         0.0157629   0.997568       0.0751171      0.977749           0.0476221      184.274       \n",
      "\u001b[J196         0.015547    0.997663       0.0741541      0.977749           0.0476512      186.138       \n",
      "\u001b[J197         0.015402    0.997735       0.0745429      0.97854            0.0476806      188.044       \n",
      "\u001b[J198         0.0152414   0.997834       0.0753017      0.97765            0.047709       189.929       \n",
      "\u001b[J199         0.0151131   0.997801       0.0747774      0.978046           0.0477378      191.927       \n",
      "\u001b[J200         0.0149769   0.997813       0.0749571      0.977947           0.0477669      194.153       \n"
     ]
    }
   ],
   "source": [
    "trainer.run()"
   ]
  },
  {
   "cell_type": "code",
   "execution_count": 41,
   "metadata": {},
   "outputs": [
    {
     "data": {
      "image/png": "[encoded data removed]",
      "text/plain": [
       "<IPython.core.display.Image object>"
      ]
     },
     "execution_count": 41,
     "metadata": {},
     "output_type": "execute_result"
    }
   ],
   "source": [
    "from IPython.display import Image\n",
    "Image(filename=\"mnist_result/loss.png\")"
   ]
  },
  {
   "cell_type": "code",
   "execution_count": 42,
   "metadata": {
    "scrolled": true
   },
   "outputs": [
    {
     "data": {
      "image/png": "[encoded data removed]",
      "text/plain": [
       "<IPython.core.display.Image object>"
      ]
     },
     "execution_count": 42,
     "metadata": {},
     "output_type": "execute_result"
    }
   ],
   "source": [
    "Image(filename=\"mnist_result/accuracy.png\")"
   ]
  },
  {
   "cell_type": "code",
   "execution_count": 43,
   "metadata": {
    "collapsed": true
   },
   "outputs": [],
   "source": [
    "infer_net = MLP()\n",
    "\n",
    "serializers.load_npz(\"mnist_result/snapshot_epoch-200\", infer_net, path=\"updater/model:main/predictor/\")"
   ]
  },
  {
   "cell_type": "code",
   "execution_count": 48,
   "metadata": {},
   "outputs": [
    {
     "data": {
      "image/png": "[encoded data removed]",
      "text/plain": [
       "<matplotlib.figure.Figure at 0x184640b940>"
      ]
     },
     "metadata": {},
     "output_type": "display_data"
    },
    {
     "name": "stdout",
     "output_type": "stream",
     "text": [
      "予測ラベル: 6\n"
     ]
    }
   ],
   "source": [
    "if gpu_id >= 0:\n",
    "    infer_net.to_gpu(gpu_id)\n",
    "    \n",
    "x, t = test[100]\n",
    "plt.imshow(x.reshape(28, 28), cmap=\"gray\")\n",
    "plt.show()\n",
    "\n",
    "x = infer_net.xp.asarray(x[None, ...])\n",
    "y = infer_net(x)\n",
    "y = to_cpu(y.array)\n",
    "\n",
    "print(\"予測ラベル:\", y.argmax(axis=1)[0])"
   ]
  },
  {
   "cell_type": "code",
   "execution_count": null,
   "metadata": {
    "collapsed": true
   },
   "outputs": [],
   "source": []
  }
 ],
 "metadata": {
  "kernelspec": {
   "display_name": "Python 3",
   "language": "python",
   "name": "python3"
  },
  "language_info": {
   "codemirror_mode": {
    "name": "ipython",
    "version": 3
   },
   "file_extension": ".py",
   "mimetype": "text/x-python",
   "name": "python",
   "nbconvert_exporter": "python",
   "pygments_lexer": "ipython3",
   "version": "3.6.3"
  }
 },
 "nbformat": 4,
 "nbformat_minor": 2
}
