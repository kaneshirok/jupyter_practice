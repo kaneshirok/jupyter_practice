{
 "cells": [
  {
   "cell_type": "code",
   "execution_count": 1,
   "metadata": {
    "collapsed": true
   },
   "outputs": [],
   "source": [
    "import numpy as np\n",
    "import pandas as pd"
   ]
  },
  {
   "cell_type": "code",
   "execution_count": 2,
   "metadata": {},
   "outputs": [
    {
     "data": {
      "text/html": [
       "<div>\n",
       "<table border=\"1\" class=\"dataframe\">\n",
       "  <thead>\n",
       "    <tr style=\"text-align: right;\">\n",
       "      <th></th>\n",
       "      <th>A</th>\n",
       "      <th>B</th>\n",
       "      <th>C</th>\n",
       "    </tr>\n",
       "  </thead>\n",
       "  <tbody>\n",
       "    <tr>\n",
       "      <th>0</th>\n",
       "      <td>38</td>\n",
       "      <td>71</td>\n",
       "      <td>59</td>\n",
       "    </tr>\n",
       "    <tr>\n",
       "      <th>1</th>\n",
       "      <td>73</td>\n",
       "      <td>84</td>\n",
       "      <td>70</td>\n",
       "    </tr>\n",
       "    <tr>\n",
       "      <th>2</th>\n",
       "      <td>86</td>\n",
       "      <td>85</td>\n",
       "      <td>77</td>\n",
       "    </tr>\n",
       "    <tr>\n",
       "      <th>3</th>\n",
       "      <td>90</td>\n",
       "      <td>89</td>\n",
       "      <td>88</td>\n",
       "    </tr>\n",
       "    <tr>\n",
       "      <th>4</th>\n",
       "      <td>111</td>\n",
       "      <td>90</td>\n",
       "      <td>95</td>\n",
       "    </tr>\n",
       "    <tr>\n",
       "      <th>5</th>\n",
       "      <td>124</td>\n",
       "      <td>103</td>\n",
       "      <td>229</td>\n",
       "    </tr>\n",
       "  </tbody>\n",
       "</table>\n",
       "</div>"
      ],
      "text/plain": [
       "     A    B    C\n",
       "0   38   71   59\n",
       "1   73   84   70\n",
       "2   86   85   77\n",
       "3   90   89   88\n",
       "4  111   90   95\n",
       "5  124  103  229"
      ]
     },
     "execution_count": 2,
     "metadata": {},
     "output_type": "execute_result"
    }
   ],
   "source": [
    "# ボーリングのスコアをチームごとに生成\n",
    "bowling_score = {\n",
    "    'A': [38, 73, 86, 90, 111, 124],\n",
    "    'B': [71, 84, 85, 89, 90, 103],\n",
    "    'C': [59, 70, 77, 88, 95, 229]\n",
    "}\n",
    "# DataFrameの型に変更\n",
    "bowling_score_df = pd.DataFrame(bowling_score)\n",
    "bowling_score_df"
   ]
  },
  {
   "cell_type": "code",
   "execution_count": 3,
   "metadata": {},
   "outputs": [
    {
     "data": {
      "text/html": [
       "<div>\n",
       "<table border=\"1\" class=\"dataframe\">\n",
       "  <thead>\n",
       "    <tr style=\"text-align: right;\">\n",
       "      <th></th>\n",
       "      <th>A</th>\n",
       "      <th>B</th>\n",
       "      <th>C</th>\n",
       "    </tr>\n",
       "  </thead>\n",
       "  <tbody>\n",
       "    <tr>\n",
       "      <th>count</th>\n",
       "      <td>6.0</td>\n",
       "      <td>6.0</td>\n",
       "      <td>6.0</td>\n",
       "    </tr>\n",
       "    <tr>\n",
       "      <th>mean</th>\n",
       "      <td>87.0</td>\n",
       "      <td>87.0</td>\n",
       "      <td>103.0</td>\n",
       "    </tr>\n",
       "    <tr>\n",
       "      <th>std</th>\n",
       "      <td>30.2</td>\n",
       "      <td>10.4</td>\n",
       "      <td>63.0</td>\n",
       "    </tr>\n",
       "    <tr>\n",
       "      <th>min</th>\n",
       "      <td>38.0</td>\n",
       "      <td>71.0</td>\n",
       "      <td>59.0</td>\n",
       "    </tr>\n",
       "    <tr>\n",
       "      <th>25%</th>\n",
       "      <td>76.2</td>\n",
       "      <td>84.2</td>\n",
       "      <td>71.8</td>\n",
       "    </tr>\n",
       "    <tr>\n",
       "      <th>50%</th>\n",
       "      <td>88.0</td>\n",
       "      <td>87.0</td>\n",
       "      <td>82.5</td>\n",
       "    </tr>\n",
       "    <tr>\n",
       "      <th>75%</th>\n",
       "      <td>105.8</td>\n",
       "      <td>89.8</td>\n",
       "      <td>93.2</td>\n",
       "    </tr>\n",
       "    <tr>\n",
       "      <th>max</th>\n",
       "      <td>124.0</td>\n",
       "      <td>103.0</td>\n",
       "      <td>229.0</td>\n",
       "    </tr>\n",
       "  </tbody>\n",
       "</table>\n",
       "</div>"
      ],
      "text/plain": [
       "           A      B      C\n",
       "count    6.0    6.0    6.0\n",
       "mean    87.0   87.0  103.0\n",
       "std     30.2   10.4   63.0\n",
       "min     38.0   71.0   59.0\n",
       "25%     76.2   84.2   71.8\n",
       "50%     88.0   87.0   82.5\n",
       "75%    105.8   89.8   93.2\n",
       "max    124.0  103.0  229.0"
      ]
     },
     "execution_count": 3,
     "metadata": {},
     "output_type": "execute_result"
    }
   ],
   "source": [
    "# 要約統計量を表示\n",
    "bowling_score_df.describe().round(1)"
   ]
  },
  {
   "cell_type": "code",
   "execution_count": 4,
   "metadata": {},
   "outputs": [
    {
     "data": {
      "text/plain": [
       "A    88.0\n",
       "B    87.0\n",
       "C    82.5\n",
       "dtype: float64"
      ]
     },
     "execution_count": 4,
     "metadata": {},
     "output_type": "execute_result"
    }
   ],
   "source": [
    "# 中央値を表示\n",
    "bowling_score_df.median()"
   ]
  },
  {
   "cell_type": "code",
   "execution_count": 5,
   "metadata": {},
   "outputs": [
    {
     "data": {
      "text/plain": [
       "A    27.5\n",
       "B     9.5\n",
       "C    57.5\n",
       "dtype: float64"
      ]
     },
     "execution_count": 5,
     "metadata": {},
     "output_type": "execute_result"
    }
   ],
   "source": [
    "# 標本標準偏差を表示\n",
    "bowling_score_df.std(ddof=False).round(1)"
   ]
  },
  {
   "cell_type": "code",
   "execution_count": 6,
   "metadata": {},
   "outputs": [
    {
     "data": {
      "text/plain": [
       "A    30.2\n",
       "B    10.4\n",
       "C    63.0\n",
       "dtype: float64"
      ]
     },
     "execution_count": 6,
     "metadata": {},
     "output_type": "execute_result"
    }
   ],
   "source": [
    "# 不偏標準偏差を表示\n",
    "# pandasのデフォルトは不偏標準偏差\n",
    "bowling_score_df.std().round(1)"
   ]
  },
  {
   "cell_type": "code",
   "execution_count": 7,
   "metadata": {},
   "outputs": [
    {
     "data": {
      "text/html": [
       "<div>\n",
       "<table border=\"1\" class=\"dataframe\">\n",
       "  <thead>\n",
       "    <tr style=\"text-align: right;\">\n",
       "      <th></th>\n",
       "      <th>100m走(秒)</th>\n",
       "    </tr>\n",
       "  </thead>\n",
       "  <tbody>\n",
       "    <tr>\n",
       "      <th>Aさん</th>\n",
       "      <td>16.3</td>\n",
       "    </tr>\n",
       "    <tr>\n",
       "      <th>Bさん</th>\n",
       "      <td>22.4</td>\n",
       "    </tr>\n",
       "    <tr>\n",
       "      <th>Cさん</th>\n",
       "      <td>18.5</td>\n",
       "    </tr>\n",
       "    <tr>\n",
       "      <th>Dさん</th>\n",
       "      <td>18.7</td>\n",
       "    </tr>\n",
       "    <tr>\n",
       "      <th>Eさん</th>\n",
       "      <td>20.1</td>\n",
       "    </tr>\n",
       "  </tbody>\n",
       "</table>\n",
       "</div>"
      ],
      "text/plain": [
       "     100m走(秒)\n",
       "Aさん      16.3\n",
       "Bさん      22.4\n",
       "Cさん      18.5\n",
       "Dさん      18.7\n",
       "Eさん      20.1"
      ]
     },
     "execution_count": 7,
     "metadata": {},
     "output_type": "execute_result"
    }
   ],
   "source": [
    "# 100m走の結果を走者ごとに生成\n",
    "running_100m = {\n",
    "   '100m走(秒)': [16.3, 22.4, 18.5, 18.7, 20.1]\n",
    "}\n",
    "# 100m走者の名前(index)を生成\n",
    "running_100m_index = ['Aさん', 'Bさん', 'Cさん', 'Dさん', 'Eさん']\n",
    "\n",
    "# DataFrameの型に変換\n",
    "running_100m_df = pd.DataFrame(data=running_100m, index=running_100m_index)\n",
    "running_100m_df"
   ]
  },
  {
   "cell_type": "code",
   "execution_count": 8,
   "metadata": {},
   "outputs": [
    {
     "data": {
      "text/plain": [
       "100m走(秒)    19.2\n",
       "dtype: float64"
      ]
     },
     "execution_count": 8,
     "metadata": {},
     "output_type": "execute_result"
    }
   ],
   "source": [
    "# 平均を表示\n",
    "running_100m_df.mean()"
   ]
  },
  {
   "cell_type": "code",
   "execution_count": 9,
   "metadata": {},
   "outputs": [
    {
     "data": {
      "text/plain": [
       "100m走(秒)    18.7\n",
       "dtype: float64"
      ]
     },
     "execution_count": 9,
     "metadata": {},
     "output_type": "execute_result"
    }
   ],
   "source": [
    "# 中央値を表示\n",
    "running_100m_df.median()"
   ]
  },
  {
   "cell_type": "code",
   "execution_count": 10,
   "metadata": {},
   "outputs": [
    {
     "data": {
      "text/plain": [
       "100m走(秒)    2.01\n",
       "dtype: float64"
      ]
     },
     "execution_count": 10,
     "metadata": {},
     "output_type": "execute_result"
    }
   ],
   "source": [
    "# 標準偏差を表示\n",
    "running_100m_df.std(ddof=False).round(2)"
   ]
  },
  {
   "cell_type": "code",
   "execution_count": 11,
   "metadata": {},
   "outputs": [
    {
     "data": {
      "text/html": [
       "<div>\n",
       "<table border=\"1\" class=\"dataframe\">\n",
       "  <thead>\n",
       "    <tr style=\"text-align: right;\">\n",
       "      <th></th>\n",
       "      <th>〇〇党に比べて△△党は・・・</th>\n",
       "    </tr>\n",
       "  </thead>\n",
       "  <tbody>\n",
       "    <tr>\n",
       "      <th>回答者1</th>\n",
       "      <td>期待できない</td>\n",
       "    </tr>\n",
       "    <tr>\n",
       "      <th>回答者2</th>\n",
       "      <td>期待できない</td>\n",
       "    </tr>\n",
       "    <tr>\n",
       "      <th>回答者3</th>\n",
       "      <td>期待できない</td>\n",
       "    </tr>\n",
       "    <tr>\n",
       "      <th>回答者4</th>\n",
       "      <td>どちらとも言えない</td>\n",
       "    </tr>\n",
       "    <tr>\n",
       "      <th>回答者5</th>\n",
       "      <td>期待できる</td>\n",
       "    </tr>\n",
       "    <tr>\n",
       "      <th>回答者6</th>\n",
       "      <td>期待できない</td>\n",
       "    </tr>\n",
       "    <tr>\n",
       "      <th>回答者7</th>\n",
       "      <td>期待できる</td>\n",
       "    </tr>\n",
       "    <tr>\n",
       "      <th>回答者8</th>\n",
       "      <td>どちらとも言えない</td>\n",
       "    </tr>\n",
       "    <tr>\n",
       "      <th>回答者9</th>\n",
       "      <td>期待できない</td>\n",
       "    </tr>\n",
       "    <tr>\n",
       "      <th>回答者10</th>\n",
       "      <td>期待できない</td>\n",
       "    </tr>\n",
       "  </tbody>\n",
       "</table>\n",
       "</div>"
      ],
      "text/plain": [
       "      〇〇党に比べて△△党は・・・\n",
       "回答者1          期待できない\n",
       "回答者2          期待できない\n",
       "回答者3          期待できない\n",
       "回答者4       どちらとも言えない\n",
       "回答者5           期待できる\n",
       "回答者6          期待できない\n",
       "回答者7           期待できる\n",
       "回答者8       どちらとも言えない\n",
       "回答者9          期待できない\n",
       "回答者10         期待できない"
      ]
     },
     "execution_count": 11,
     "metadata": {},
     "output_type": "execute_result"
    }
   ],
   "source": [
    "# カテゴリーデータから単純集計表を生成\n",
    "# カテゴリーデータの生成\n",
    "next_administration = {\n",
    "    '〇〇党に比べて△△党は・・・': [\n",
    "        '期待できない',\n",
    "        '期待できない',\n",
    "        '期待できない',\n",
    "        'どちらとも言えない',\n",
    "        '期待できる',\n",
    "        '期待できない',\n",
    "        '期待できる',\n",
    "        'どちらとも言えない',\n",
    "        '期待できない',\n",
    "        '期待できない'\n",
    "    ]\n",
    "}\n",
    "# 回答者名(index)を生成\n",
    "respondent = []\n",
    "for i in range(1, 11):\n",
    "    respondent.append('回答者' + str(i))\n",
    "\n",
    "# DataFrameの型へ変換する\n",
    "next_administration_df = pd.DataFrame(data=next_administration, index=respondent)\n",
    "next_administration_df"
   ]
  },
  {
   "cell_type": "code",
   "execution_count": 12,
   "metadata": {},
   "outputs": [
    {
     "data": {
      "text/plain": [
       "〇〇党に比べて△△党は・・・\n",
       "どちらとも言えない    2\n",
       "期待できない       6\n",
       "期待できる        2\n",
       "dtype: int64"
      ]
     },
     "execution_count": 12,
     "metadata": {},
     "output_type": "execute_result"
    }
   ],
   "source": [
    "# 度数の表示\n",
    "next_administration_df.groupby('〇〇党に比べて△△党は・・・').size()"
   ]
  },
  {
   "cell_type": "code",
   "execution_count": 13,
   "metadata": {
    "collapsed": true
   },
   "outputs": [],
   "source": [
    "# 日本史、生物の各生徒の点数を生成\n",
    "japan_history_and_creat_count = {\n",
    "    '日本史': [\n",
    "        73,\n",
    "        61,\n",
    "        14,\n",
    "        41,\n",
    "        49,\n",
    "        87,\n",
    "        69,\n",
    "        65,\n",
    "        36,\n",
    "        7,\n",
    "        53,\n",
    "        100,\n",
    "        57,\n",
    "        45,\n",
    "        56,\n",
    "        34,\n",
    "        \n",
    "    ],\n",
    "    '生物': []\n",
    "}"
   ]
  },
  {
   "cell_type": "code",
   "execution_count": null,
   "metadata": {
    "collapsed": true
   },
   "outputs": [],
   "source": []
  }
 ],
 "metadata": {
  "kernelspec": {
   "display_name": "Python 3",
   "language": "python",
   "name": "python3"
  },
  "language_info": {
   "codemirror_mode": {
    "name": "ipython",
    "version": 3
   },
   "file_extension": ".py",
   "mimetype": "text/x-python",
   "name": "python",
   "nbconvert_exporter": "python",
   "pygments_lexer": "ipython3",
   "version": "3.6.3"
  }
 },
 "nbformat": 4,
 "nbformat_minor": 2
}
